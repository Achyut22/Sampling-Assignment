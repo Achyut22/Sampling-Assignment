{
  "nbformat": 4,
  "nbformat_minor": 0,
  "metadata": {
    "colab": {
      "provenance": []
    },
    "kernelspec": {
      "name": "python3",
      "display_name": "Python 3"
    },
    "language_info": {
      "name": "python"
    }
  },
  "cells": [
    {
      "cell_type": "code",
      "execution_count": 187,
      "metadata": {
        "id": "AFoE_s4zktU3"
      },
      "outputs": [],
      "source": [
        "import pandas as pd\n",
        "import numpy as np\n",
        "from collections import Counter\n",
        "from scipy.stats import norm\n",
        "from sklearn.model_selection import train_test_split\n",
        "from sklearn.linear_model import LogisticRegression\n",
        "from sklearn.tree import DecisionTreeClassifier\n",
        "from sklearn.ensemble import RandomForestClassifier\n",
        "from sklearn.svm import SVC\n",
        "from sklearn.neighbors import KNeighborsClassifier\n",
        "from sklearn.preprocessing import StandardScaler\n",
        "from sklearn.pipeline import Pipeline\n",
        "from sklearn.metrics import accuracy_score\n",
        "from sklearn.cluster import KMeans\n"
      ]
    },
    {
      "cell_type": "code",
      "source": [
        "pip install imblearn"
      ],
      "metadata": {
        "colab": {
          "base_uri": "https://localhost:8080/"
        },
        "id": "Hc0Hrxg39Xj8",
        "outputId": "b5173058-8525-4701-938d-89babd4bb002"
      },
      "execution_count": 188,
      "outputs": [
        {
          "output_type": "stream",
          "name": "stdout",
          "text": [
            "Looking in indexes: https://pypi.org/simple, https://us-python.pkg.dev/colab-wheels/public/simple/\n",
            "Requirement already satisfied: imblearn in /usr/local/lib/python3.8/dist-packages (0.0)\n",
            "Requirement already satisfied: imbalanced-learn in /usr/local/lib/python3.8/dist-packages (from imblearn) (0.8.1)\n",
            "Requirement already satisfied: joblib>=0.11 in /usr/local/lib/python3.8/dist-packages (from imbalanced-learn->imblearn) (1.2.0)\n",
            "Requirement already satisfied: scipy>=0.19.1 in /usr/local/lib/python3.8/dist-packages (from imbalanced-learn->imblearn) (1.7.3)\n",
            "Requirement already satisfied: numpy>=1.13.3 in /usr/local/lib/python3.8/dist-packages (from imbalanced-learn->imblearn) (1.21.6)\n",
            "Requirement already satisfied: scikit-learn>=0.24 in /usr/local/lib/python3.8/dist-packages (from imbalanced-learn->imblearn) (1.0.2)\n",
            "Requirement already satisfied: threadpoolctl>=2.0.0 in /usr/local/lib/python3.8/dist-packages (from scikit-learn>=0.24->imbalanced-learn->imblearn) (3.1.0)\n"
          ]
        }
      ]
    },
    {
      "cell_type": "code",
      "source": [
        "data=pd.read_csv(\"/content/Creditcard_data.csv\")"
      ],
      "metadata": {
        "id": "7p7FaT9Wk69S"
      },
      "execution_count": 189,
      "outputs": []
    },
    {
      "cell_type": "code",
      "source": [
        "data.shape"
      ],
      "metadata": {
        "colab": {
          "base_uri": "https://localhost:8080/"
        },
        "id": "kf09i3Zmk8y2",
        "outputId": "89cf8823-00ac-4410-d690-65e474ae487e"
      },
      "execution_count": 190,
      "outputs": [
        {
          "output_type": "execute_result",
          "data": {
            "text/plain": [
              "(772, 31)"
            ]
          },
          "metadata": {},
          "execution_count": 190
        }
      ]
    },
    {
      "cell_type": "code",
      "source": [
        "#Distribution of Two classes\n",
        "data.Class.value_counts()"
      ],
      "metadata": {
        "colab": {
          "base_uri": "https://localhost:8080/"
        },
        "id": "XDvcPT6dk-YK",
        "outputId": "2302694d-8932-490e-87ad-e74c6a6eeec1"
      },
      "execution_count": 191,
      "outputs": [
        {
          "output_type": "execute_result",
          "data": {
            "text/plain": [
              "0    763\n",
              "1      9\n",
              "Name: Class, dtype: int64"
            ]
          },
          "metadata": {},
          "execution_count": 191
        }
      ]
    },
    {
      "cell_type": "code",
      "source": [
        "#Highly Imblanced dataset\n",
        "# 0--> Legit Transactions\n",
        "# 1--> Fraudlent Transactions"
      ],
      "metadata": {
        "id": "TyG0-VSLlAUe"
      },
      "execution_count": 192,
      "outputs": []
    },
    {
      "cell_type": "code",
      "source": [
        "# Separating Legit and Fraudlent Transactions\n",
        "X = data.drop('Class',axis=1)\n",
        "Y = data['Class']"
      ],
      "metadata": {
        "id": "4U-_-_XxlB3H"
      },
      "execution_count": 193,
      "outputs": []
    },
    {
      "cell_type": "code",
      "source": [
        "print(X.shape)\n",
        "print(Y.shape)"
      ],
      "metadata": {
        "colab": {
          "base_uri": "https://localhost:8080/"
        },
        "id": "Lu0O186JlDgw",
        "outputId": "9229ad42-d1a2-4018-c489-6187e179f0b0"
      },
      "execution_count": 194,
      "outputs": [
        {
          "output_type": "stream",
          "name": "stdout",
          "text": [
            "(772, 30)\n",
            "(772,)\n"
          ]
        }
      ]
    },
    {
      "cell_type": "code",
      "source": [
        "from imblearn import over_sampling\n",
        "from imblearn.over_sampling import RandomOverSampler\n",
        "rus = RandomOverSampler(random_state=0)\n",
        "X_train_os, Y_train_os = rus.fit_resample(X,Y)"
      ],
      "metadata": {
        "id": "faOuuK5TQS8d"
      },
      "execution_count": 195,
      "outputs": []
    },
    {
      "cell_type": "code",
      "source": [
        "print(\"Before Over Sampling :\" , Counter(Y))\n",
        "print(\"After Over Sampling :\" , Counter(Y_train_os))"
      ],
      "metadata": {
        "colab": {
          "base_uri": "https://localhost:8080/"
        },
        "id": "DLbWbs0fQyjq",
        "outputId": "0deb830d-8388-4883-8aca-d40154613694"
      },
      "execution_count": 196,
      "outputs": [
        {
          "output_type": "stream",
          "name": "stdout",
          "text": [
            "Before Over Sampling : Counter({0: 763, 1: 9})\n",
            "After Over Sampling : Counter({0: 763, 1: 763})\n"
          ]
        }
      ]
    },
    {
      "cell_type": "code",
      "source": [
        "balanced_df = pd.concat([X_train_os, Y_train_os], axis=1)\n",
        "balanced_df.to_csv('balanced_dataset.csv', index=False)\n",
        "print(\"Balanced Dataset Created...\")"
      ],
      "metadata": {
        "colab": {
          "base_uri": "https://localhost:8080/"
        },
        "id": "SLmLNGafD1cV",
        "outputId": "d97cef64-6f60-49cf-d95d-b1c9e6fea514"
      },
      "execution_count": 197,
      "outputs": [
        {
          "output_type": "stream",
          "name": "stdout",
          "text": [
            "Balanced Dataset Created...\n"
          ]
        }
      ]
    },
    {
      "cell_type": "code",
      "source": [],
      "metadata": {
        "id": "OrKjKd9aNjRg"
      },
      "execution_count": 197,
      "outputs": []
    },
    {
      "cell_type": "code",
      "source": [
        "# Calculation of sample size using sample size detection formula\n",
        "p = np.sum(Y_train_os) / len(Y_train_os)\n",
        "\n",
        "# Set the confidence level and margin of error\n",
        "confidence_level = input(\"Enter the Confidence Level(in %) :\")  \n",
        "confidence_level = float(confidence_level)/100\n",
        "\n",
        "alpha = 1-confidence_level\n",
        "print(\"The Margin of Error :\",alpha)\n",
        "\n",
        "z_score = norm.ppf(1-alpha/2)\n",
        "print(\"Z-Score is :\",z_score)\n",
        "\n",
        "n = int(np.ceil((z_score**2 * p * (1-p)) / (alpha**2)))\n",
        "print(\"Sample Size is :\",n)"
      ],
      "metadata": {
        "colab": {
          "base_uri": "https://localhost:8080/"
        },
        "id": "FwB3YhoFNj4P",
        "outputId": "77d39683-8aed-4182-ffe7-0f5931ff5021"
      },
      "execution_count": 198,
      "outputs": [
        {
          "output_type": "stream",
          "name": "stdout",
          "text": [
            "Enter the Confidence Level(in %) :95\n",
            "The Margin of Error : 0.050000000000000044\n",
            "Z-Score is : 1.959963984540054\n",
            "Sample Size is : 385\n"
          ]
        }
      ]
    },
    {
      "cell_type": "code",
      "source": [
        "sample_datasets = []"
      ],
      "metadata": {
        "id": "kcx_nfnUpLVJ"
      },
      "execution_count": 199,
      "outputs": []
    },
    {
      "cell_type": "code",
      "source": [
        "# 1. Simple Random Sampling\n",
        "sample0 = balanced_df.sample(n, replace=False)\n",
        "sample_datasets.append(sample0)"
      ],
      "metadata": {
        "id": "6XP3jI7sN057"
      },
      "execution_count": 200,
      "outputs": []
    },
    {
      "cell_type": "code",
      "source": [
        "# 2. Stratified Sampling\n",
        "sample1=balanced_df.groupby('Class',group_keys=False).apply(lambda x: x.sample(frac=.2523))\n",
        "sample_datasets.append(sample1)"
      ],
      "metadata": {
        "id": "cm7jTW5IO35u"
      },
      "execution_count": 201,
      "outputs": []
    },
    {
      "cell_type": "code",
      "source": [
        "# 3. systematic Sampling\n",
        "sampling_interval = int(len(balanced_df) / n) # Sample every 10th row\n",
        "\n",
        "# Create a list of indices to sample\n",
        "indices = np.arange(start=0, stop=len(balanced_df), step=sampling_interval)[:n]\n",
        "\n",
        "# Sample the dataset using the indices\n",
        "sample2 = balanced_df.iloc[indices]\n",
        "sample_datasets.append(sample2)\n"
      ],
      "metadata": {
        "id": "PwSsVXiYbnoq"
      },
      "execution_count": 202,
      "outputs": []
    },
    {
      "cell_type": "code",
      "source": [
        "# 4. Cluster Sampling\n",
        "from sklearn.cluster import KMeans\n",
        "# Separate the data into two clusters based on the class column\n",
        "kmeans = KMeans(n_clusters=2, random_state=0).fit(balanced_df.iloc[:, :-1])\n",
        "clusters = kmeans.predict(balanced_df.iloc[:, :-1])\n",
        "balanced_df['cluster'] = clusters\n",
        "\n",
        "# Calculate the proportion of each cluster in the data\n",
        "proportions = balanced_df['cluster'].value_counts(normalize=True)\n",
        "\n",
        "# Set the desired sample size and calculate the number of samples to take from each cluster\n",
        "desired_sample_size = n\n",
        "sample_sizes = np.round(proportions * n).astype(int)\n",
        "\n",
        "# Initialize an empty list to store the sampled data\n",
        "sample3 = []\n",
        "\n",
        "# Iterate over each cluster and take a random sample of the appropriate size\n",
        "for cluster, size in sample_sizes.iteritems():\n",
        "    cluster_data = balanced_df[balanced_df['cluster'] == cluster]\n",
        "    sample = cluster_data.sample(n=size, random_state=0)\n",
        "    sample3.append(sample)\n",
        "\n",
        "# Concatenate the sampled data into a single DataFrame\n",
        "sample3 = pd.concat(sample3)\n",
        "\n",
        "# Remove the cluster column from the sampled data\n",
        "sample3 = sample3.drop('cluster', axis=1)\n",
        "sample_datasets.append(sample3)\n"
      ],
      "metadata": {
        "id": "l3_sSctSjlfC"
      },
      "execution_count": 203,
      "outputs": []
    },
    {
      "cell_type": "code",
      "source": [
        "# 5. convenience Sampling\n",
        "# Separate the 0 and 1 class observations into two separate dataframes and Conducting convenience sampling by selecting n/2 observations from each class\n",
        "zeros_df = balanced_df[balanced_df['Class'] == 0].sample(int(n/2), random_state=1)\n",
        "ones_df = balanced_df[balanced_df['Class'] == 1].sample(int(n/2), random_state=1)\n",
        "\n",
        "# Combine the sampled dataframes into a new balanced dataset\n",
        "sample4 = pd.concat([zeros_df, ones_df])\n",
        "sample_datasets.append(sample4)"
      ],
      "metadata": {
        "id": "su7EYaaLhOJZ"
      },
      "execution_count": 204,
      "outputs": []
    },
    {
      "cell_type": "code",
      "source": [
        "# Save the sample datasets to separate CSV files\n",
        "for i, sample in enumerate(sample_datasets):\n",
        "    sample.to_csv(f'sample_dataset_{i}.csv', index=False)"
      ],
      "metadata": {
        "id": "pIkFzHkJo8Op"
      },
      "execution_count": 205,
      "outputs": []
    },
    {
      "cell_type": "code",
      "source": [
        "\n",
        "models = [\n",
        "    Pipeline([('scaler', StandardScaler()),('lr', LogisticRegression(max_iter=1000))]),\n",
        "    DecisionTreeClassifier(),RandomForestClassifier(), SVC(), KNeighborsClassifier()]\n",
        "\n",
        "# Define a list of model names for the table\n",
        "model_names = ['Logistic Regression', 'Decision Tree', 'Random forest', 'Random forest', 'KNN']\n",
        "\n",
        "# Define a table to store the results\n",
        "results_table = pd.DataFrame(columns=['Dataset', *model_names])\n",
        "\n",
        "# Loop over each sample dataset and each model to compute accuracy\n",
        "for i, sample in enumerate(sample_datasets):\n",
        "    X = sample.iloc[:, :-1]\n",
        "    y = sample.iloc[:, -1]\n",
        "    row = {'Dataset': f'Sampling {i+1}'}\n",
        "    for j, model in enumerate(models):\n",
        "        model.fit(X, y)\n",
        "        y_pred = model.predict(X)\n",
        "        accuracy = accuracy_score(y, y_pred)\n",
        "        row[model_names[j]] = f'{accuracy:.3f}'\n",
        "    results_table = results_table.append(row, ignore_index=True)\n",
        "\n",
        "# Transpose the table so that the model names are in the first column and dataset names are in the top row\n",
        "results_table = results_table.set_index('Dataset').T.rename_axis('Model', axis=0)\n",
        "\n",
        "# Print the results table\n",
        "print(results_table)\n",
        "results_table.to_csv(f'Final_Solution.csv', index=False)"
      ],
      "metadata": {
        "colab": {
          "base_uri": "https://localhost:8080/"
        },
        "id": "7LGKh_xlexq5",
        "outputId": "773aa6a7-e66a-47e5-a456-9624fe45309b"
      },
      "execution_count": 207,
      "outputs": [
        {
          "output_type": "stream",
          "name": "stdout",
          "text": [
            "Dataset             Sampling 1 Sampling 2 Sampling 3 Sampling 4 Sampling 5\n",
            "Model                                                                     \n",
            "Logistic Regression      0.927      0.922      0.878      0.935      0.997\n",
            "Decision Tree            1.000      1.000      1.000      1.000      1.000\n",
            "Random forest            0.704      0.684      0.774      0.683      0.992\n",
            "Random forest            0.704      0.684      0.774      0.683      0.992\n",
            "KNN                      0.969      0.959      0.953      0.964      0.997\n"
          ]
        }
      ]
    },
    {
      "cell_type": "code",
      "source": [],
      "metadata": {
        "id": "U5IhZqjq-Plz"
      },
      "execution_count": null,
      "outputs": []
    }
  ]
}